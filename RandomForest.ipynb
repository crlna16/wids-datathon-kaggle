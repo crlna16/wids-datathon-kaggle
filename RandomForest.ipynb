{
 "cells": [
  {
   "cell_type": "code",
   "execution_count": null,
   "id": "ab96d442",
   "metadata": {},
   "outputs": [],
   "source": [
    "import numpy as np\n",
    "import pandas as pd\n",
    "import os"
   ]
  },
  {
   "cell_type": "code",
   "execution_count": null,
   "id": "05c9d923",
   "metadata": {},
   "outputs": [],
   "source": [
    "from matplotlib import pyplot as plt\n",
    "from matplotlib import colors\n",
    "import seaborn as sns"
   ]
  },
  {
   "cell_type": "code",
   "execution_count": null,
   "id": "261fb44d",
   "metadata": {},
   "outputs": [],
   "source": [
    "sns.set_style('whitegrid')"
   ]
  },
  {
   "cell_type": "code",
   "execution_count": null,
   "id": "7fec4569",
   "metadata": {},
   "outputs": [],
   "source": [
    "from sklearn.ensemble import RandomForestRegressor\n",
    "import xgboost"
   ]
  },
  {
   "cell_type": "code",
   "execution_count": null,
   "id": "22d26aae",
   "metadata": {},
   "outputs": [],
   "source": [
    "np.random.seed(1767)"
   ]
  },
  {
   "cell_type": "markdown",
   "id": "9fe22b21",
   "metadata": {},
   "source": [
    "Your task is to predict the Site EUI for each row, given the characteristics of the building and the weather data for the location of the building. "
   ]
  },
  {
   "cell_type": "code",
   "execution_count": null,
   "id": "9526ed35",
   "metadata": {},
   "outputs": [],
   "source": [
    "always_drop_columns = ['days_with_fog', 'direction_peak_wind_speed', 'max_wind_speed', 'direction_max_wind_speed']"
   ]
  },
  {
   "cell_type": "code",
   "execution_count": null,
   "id": "2c36196c",
   "metadata": {},
   "outputs": [],
   "source": [
    "df = pd.read_csv('./data/train.csv.zip').drop(columns=['id'] + always_drop_columns)\n",
    "df.columns = df.columns.str.lower()"
   ]
  },
  {
   "cell_type": "code",
   "execution_count": null,
   "id": "5ca39f8a",
   "metadata": {},
   "outputs": [],
   "source": [
    "test_df = pd.read_csv('C:/Users/k202141/Downloads/test.csv.zip').drop(columns=always_drop_columns)\n",
    "test_df.columns = test_df.columns.str.lower()"
   ]
  },
  {
   "cell_type": "code",
   "execution_count": null,
   "id": "a96dead3",
   "metadata": {},
   "outputs": [],
   "source": [
    "df.head()"
   ]
  },
  {
   "cell_type": "code",
   "execution_count": null,
   "id": "ab56f6da",
   "metadata": {},
   "outputs": [],
   "source": [
    "df.describe()"
   ]
  },
  {
   "cell_type": "code",
   "execution_count": null,
   "id": "2f209aea",
   "metadata": {},
   "outputs": [],
   "source": [
    "cat_columns = list(df.select_dtypes(['object']).columns)\n",
    "cat_columns"
   ]
  },
  {
   "cell_type": "code",
   "execution_count": null,
   "id": "c1b9cea6",
   "metadata": {},
   "outputs": [],
   "source": [
    "for cc in cat_columns:\n",
    "    df[f'{cc}_'] = df[cc].astype('category').cat.codes\n",
    "    test_df[f'{cc}_'] = test_df[cc].astype('category').cat.codes    \n",
    "df = df.drop(columns=cat_columns)"
   ]
  },
  {
   "cell_type": "code",
   "execution_count": null,
   "id": "cf0f73c1",
   "metadata": {},
   "outputs": [],
   "source": [
    "df.info()"
   ]
  },
  {
   "cell_type": "code",
   "execution_count": null,
   "id": "bd6c2c96",
   "metadata": {},
   "outputs": [],
   "source": [
    "df.corr()['site_eui'].sort_values().head()\n",
    "df.corr()['site_eui'].sort_values().tail()"
   ]
  },
  {
   "cell_type": "code",
   "execution_count": null,
   "id": "bdf9d526",
   "metadata": {},
   "outputs": [],
   "source": [
    "df.corr()['energy_star_rating'].sort_values().tail()"
   ]
  },
  {
   "cell_type": "markdown",
   "id": "5cc5d43b",
   "metadata": {},
   "source": [
    "## Random Forest"
   ]
  },
  {
   "cell_type": "code",
   "execution_count": null,
   "id": "83583e4b",
   "metadata": {},
   "outputs": [],
   "source": [
    "features = list(df.drop(columns=['site_eui', 'year_factor']).columns)\n",
    "transform_labels = True\n",
    "transform_features = True\n",
    "fill_missing_values = False\n",
    "use_clipping = True"
   ]
  },
  {
   "cell_type": "code",
   "execution_count": null,
   "id": "622d6dbd",
   "metadata": {},
   "outputs": [],
   "source": [
    "X = df.loc[:, features]\n",
    "y = df.loc[:, 'site_eui']\n",
    "year_factor = df.loc[:, 'year_factor']\n",
    "X.shape\n",
    "\n",
    "X"
   ]
  },
  {
   "cell_type": "code",
   "execution_count": null,
   "id": "bf95f859",
   "metadata": {},
   "outputs": [],
   "source": [
    "from sklearn.preprocessing import StandardScaler, QuantileTransformer, MinMaxScaler\n",
    "from sklearn.model_selection import train_test_split, LeaveOneGroupOut\n",
    "\n",
    "#X_train = X[year_factor < 6]\n",
    "#y_train = y[year_factor < 6]\n",
    "#X_valid = X[year_factor == 6]\n",
    "#y_valid = y[year_factor == 6]\n",
    "\n",
    "#X_train, X_valid, y_train, y_valid = train_test_split(X, y, test_size=0.25, random_state=200)\n",
    "\n",
    "logo = LeaveOneGroupOut()\n",
    "print(logo.get_n_splits(X, y, year_factor))\n",
    "\n",
    "if fill_missing_values:\n",
    "    fill_values = X.median()\n",
    "    X = X.fillna(fill_values)\n",
    "    \n",
    "if use_clipping:\n",
    "    clip_lower = X.mean() - X.std() * 3\n",
    "    clip_upper = X.mean() + X.std() * 3\n",
    "\n",
    "    X = X.clip(lower=clip_lower, upper=clip_upper, axis=1)    "
   ]
  },
  {
   "cell_type": "code",
   "execution_count": null,
   "id": "a4c735a7",
   "metadata": {},
   "outputs": [],
   "source": [
    "if transform_features:\n",
    "    scaler = MinMaxScaler() #StandardScaler()\n",
    "    X = scaler.fit_transform(X)\n",
    "\n",
    "if transform_labels:\n",
    "    qtrafo = QuantileTransformer(output_distribution='normal')\n",
    "    y = qtrafo.fit_transform(y.values.reshape(-1, 1)).squeeze()"
   ]
  },
  {
   "cell_type": "code",
   "execution_count": null,
   "id": "4935b09a",
   "metadata": {},
   "outputs": [],
   "source": [
    "fig, ax = plt.subplots(1, 6, sharex=True, sharey=True, figsize=(24, 4))\n",
    "ax = ax.flatten()\n",
    "i = 0\n",
    "\n",
    "models = []\n",
    "feature_importance_df = []\n",
    "\n",
    "for train_index, valid_index in logo.split(X, y, year_factor):\n",
    "    X_train = X[train_index]\n",
    "    y_train = y[train_index]\n",
    "    X_valid = X[valid_index]\n",
    "    y_valid = y[valid_index]\n",
    "\n",
    "    rfr = xgboost.XGBRegressor(n_estimators=1000)\n",
    "    rfr = rfr.fit(X_train, y_train, eval_set=[(X_valid, y_valid)], \n",
    "                  early_stopping_rounds=10, \n",
    "                  verbose=0)\n",
    "    \n",
    "    print('*'*40)\n",
    "    print('Evaluating on year_factor', year_factor.iloc[valid_index].unique())\n",
    "    print('R2:   ', rfr.score(X_valid, y_valid))\n",
    "    \n",
    "    y_valid_hat = rfr.predict(X_valid)\n",
    "    if transform_labels:\n",
    "        y_valid = qtrafo.inverse_transform(y_valid.reshape(-1, 1)).squeeze()\n",
    "        y_valid_hat = qtrafo.inverse_transform(y_valid_hat.reshape(-1, 1)).squeeze() \n",
    "        \n",
    "    print('RMSE: ', np.mean((y_valid - y_valid_hat)**2))\n",
    "    \n",
    "    ax[i].hexbin(y_valid, y_valid_hat, cmap='viridis', norm=colors.LogNorm(vmin=1, vmax=100), mincnt=1)\n",
    "    ax[i].set_aspect('equal')\n",
    "    ax[i].plot(np.arange(0, 1000), np.arange(0, 1000), 'r--')\n",
    "    i += 1\n",
    "    \n",
    "    models.append(rfr)\n",
    "    feature_importance_df.append(pd.DataFrame(rfr.feature_importances_, index=features))\n",
    "        \n",
    "feature_importance_df = pd.concat(feature_importance_df, axis=1)"
   ]
  },
  {
   "cell_type": "code",
   "execution_count": null,
   "id": "3677be41",
   "metadata": {},
   "outputs": [],
   "source": [
    "feature_importance_df.mean(axis=1).sort_values(ascending=False)"
   ]
  },
  {
   "cell_type": "markdown",
   "id": "c6c220ba",
   "metadata": {},
   "source": [
    "### Generate test set predictions"
   ]
  },
  {
   "cell_type": "code",
   "execution_count": null,
   "id": "42e6e7a7",
   "metadata": {},
   "outputs": [],
   "source": [
    "X_test = test_df.loc[:, features]\n",
    "\n",
    "if fill_missing_values:\n",
    "    X_test = X_test.fillna(fill_values)\n",
    "    \n",
    "if use_clipping:\n",
    "    X_test = X_test.clip(lower=clip_lower, upper=clip_upper, axis=1)\n",
    "\n",
    "print(X_test.shape, len(features))\n",
    "\n",
    "if transform_features:\n",
    "    X_test = scaler.transform(X_test)\n",
    "\n",
    "print(pd.DataFrame(X_test).describe())"
   ]
  },
  {
   "cell_type": "code",
   "execution_count": null,
   "id": "e2853a07",
   "metadata": {},
   "outputs": [],
   "source": [
    "y_hat = []\n",
    "\n",
    "for rfr in models:\n",
    "    yy = rfr.predict(X_test)\n",
    "    if transform_labels:\n",
    "        yy = qtrafo.inverse_transform(yy.reshape(-1, 1)).squeeze()\n",
    "    y_hat.append(yy)\n",
    "    \n",
    "y_hat = np.mean(np.asarray(y_hat), axis=0)"
   ]
  },
  {
   "cell_type": "code",
   "execution_count": null,
   "id": "8167c267",
   "metadata": {},
   "outputs": [],
   "source": [
    "test_df['site_eui'] = y_hat\n",
    "submission_df = test_df.loc[:, ['id', 'site_eui']]"
   ]
  },
  {
   "cell_type": "code",
   "execution_count": null,
   "id": "0301198b",
   "metadata": {},
   "outputs": [],
   "source": [
    "submission_df['site_eui'].hist()"
   ]
  },
  {
   "cell_type": "code",
   "execution_count": null,
   "id": "ca2f4079",
   "metadata": {},
   "outputs": [],
   "source": [
    "submission_file = '20220125_random_forest_07.csv'\n",
    "\n",
    "if os.path.exists(os.path.join('submissions', submission_file)):\n",
    "    assert False\n",
    "submission_df.to_csv(os.path.join('submissions', submission_file), index=False)"
   ]
  },
  {
   "cell_type": "code",
   "execution_count": null,
   "id": "c29aaf40",
   "metadata": {},
   "outputs": [],
   "source": []
  },
  {
   "cell_type": "code",
   "execution_count": null,
   "id": "01e6a5b7",
   "metadata": {},
   "outputs": [],
   "source": []
  }
 ],
 "metadata": {
  "kernelspec": {
   "display_name": "Python 3 (ipykernel)",
   "language": "python",
   "name": "python3"
  },
  "language_info": {
   "codemirror_mode": {
    "name": "ipython",
    "version": 3
   },
   "file_extension": ".py",
   "mimetype": "text/x-python",
   "name": "python",
   "nbconvert_exporter": "python",
   "pygments_lexer": "ipython3",
   "version": "3.9.7"
  }
 },
 "nbformat": 4,
 "nbformat_minor": 5
}
