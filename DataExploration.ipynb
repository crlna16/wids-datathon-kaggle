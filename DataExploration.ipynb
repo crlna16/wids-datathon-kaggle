{
 "cells": [
  {
   "cell_type": "code",
   "execution_count": null,
   "id": "b5af0754",
   "metadata": {},
   "outputs": [],
   "source": [
    "import numpy as np\n",
    "import pandas as pd"
   ]
  },
  {
   "cell_type": "code",
   "execution_count": null,
   "id": "a95ca107",
   "metadata": {},
   "outputs": [],
   "source": [
    "from matplotlib import pyplot as plt\n",
    "import seaborn as sns"
   ]
  },
  {
   "cell_type": "code",
   "execution_count": null,
   "id": "df41ced5",
   "metadata": {},
   "outputs": [],
   "source": [
    "sns.set_style('whitegrid')"
   ]
  },
  {
   "cell_type": "code",
   "execution_count": null,
   "id": "7ee10b78",
   "metadata": {},
   "outputs": [],
   "source": [
    "np.random.seed(1767)"
   ]
  },
  {
   "cell_type": "markdown",
   "id": "87391254",
   "metadata": {},
   "source": [
    "Your task is to predict the Site EUI for each row, given the characteristics of the building and the weather data for the location of the building. "
   ]
  },
  {
   "cell_type": "code",
   "execution_count": null,
   "id": "02de7959",
   "metadata": {},
   "outputs": [],
   "source": [
    "df = pd.read_csv('./data/train.csv.zip').drop(columns=['id'])"
   ]
  },
  {
   "cell_type": "code",
   "execution_count": null,
   "id": "7b8d3847",
   "metadata": {},
   "outputs": [],
   "source": [
    "test_df = pd.read_csv('C:/Users/k202141/Downloads/test.csv.zip').drop(columns=['id'])"
   ]
  },
  {
   "cell_type": "code",
   "execution_count": null,
   "id": "c43b19cc",
   "metadata": {},
   "outputs": [],
   "source": [
    "df.head()"
   ]
  },
  {
   "cell_type": "code",
   "execution_count": null,
   "id": "a14807e5",
   "metadata": {},
   "outputs": [],
   "source": [
    "df.describe()"
   ]
  },
  {
   "cell_type": "code",
   "execution_count": null,
   "id": "1ca8a22e",
   "metadata": {},
   "outputs": [],
   "source": [
    ".describe()"
   ]
  },
  {
   "cell_type": "code",
   "execution_count": null,
   "id": "22cec7ef",
   "metadata": {},
   "outputs": [],
   "source": [
    "test_df.clip().describe()"
   ]
  },
  {
   "cell_type": "code",
   "execution_count": null,
   "id": "f0c0af54",
   "metadata": {},
   "outputs": [],
   "source": [
    "cat_columns = list(df.select_dtypes(['object']).columns)\n",
    "cat_columns"
   ]
  },
  {
   "cell_type": "code",
   "execution_count": null,
   "id": "3891da95",
   "metadata": {},
   "outputs": [],
   "source": [
    "for cc in cat_columns:\n",
    "    df[f'{cc}_'] = df[cc].astype('category').cat.codes\n",
    "    test_df[f'{cc}_'] = test_df[cc].astype('category').cat.codes    \n",
    "df = df.drop(columns=cat_columns)"
   ]
  },
  {
   "cell_type": "code",
   "execution_count": null,
   "id": "fe63e440",
   "metadata": {},
   "outputs": [],
   "source": [
    "df.info()"
   ]
  },
  {
   "cell_type": "code",
   "execution_count": null,
   "id": "6332077f",
   "metadata": {},
   "outputs": [],
   "source": [
    "df.corr()['site_eui'].sort_values().head()\n",
    "df.corr()['site_eui'].sort_values().tail()"
   ]
  },
  {
   "cell_type": "code",
   "execution_count": null,
   "id": "b30c9620",
   "metadata": {},
   "outputs": [],
   "source": [
    "df.corr()['energy_star_rating'].sort_values().tail()"
   ]
  },
  {
   "cell_type": "markdown",
   "id": "a6ebd12d",
   "metadata": {},
   "source": [
    "## Data exploration"
   ]
  },
  {
   "cell_type": "code",
   "execution_count": null,
   "id": "67bf4ab3",
   "metadata": {},
   "outputs": [],
   "source": [
    "sns.scatterplot(data=df, x='floor_area', y='site_eui')"
   ]
  },
  {
   "cell_type": "code",
   "execution_count": null,
   "id": "d21f7d7e",
   "metadata": {},
   "outputs": [],
   "source": [
    "C = df.corr()"
   ]
  },
  {
   "cell_type": "code",
   "execution_count": null,
   "id": "86b178b1",
   "metadata": {},
   "outputs": [],
   "source": [
    "sns.heatmap(np.abs(C))\n",
    "ax=plt.gca()\n",
    "ax.set_aspect('equal')"
   ]
  },
  {
   "cell_type": "code",
   "execution_count": null,
   "id": "ff45d9d4",
   "metadata": {},
   "outputs": [],
   "source": [
    "mean_train = df.drop(columns=['site_eui']).describe().loc['mean']\n",
    "mean_test  = test_df.describe().loc['mean']"
   ]
  },
  {
   "cell_type": "code",
   "execution_count": null,
   "id": "5f9889a1",
   "metadata": {},
   "outputs": [],
   "source": [
    "plt.plot(mean_test / mean_train)"
   ]
  },
  {
   "cell_type": "code",
   "execution_count": null,
   "id": "7a251b60",
   "metadata": {},
   "outputs": [],
   "source": [
    "tmp = ((mean_test / mean_train - 1).abs() < 0.1)\n",
    "tmp[tmp==1].index"
   ]
  },
  {
   "cell_type": "code",
   "execution_count": null,
   "id": "933bb828",
   "metadata": {},
   "outputs": [],
   "source": [
    "len(test_df.columns), len(df.columns)"
   ]
  },
  {
   "cell_type": "code",
   "execution_count": null,
   "id": "a9a75d56",
   "metadata": {},
   "outputs": [],
   "source": [
    "df.isna().sum().sort_values(ascending=False).head(30)"
   ]
  },
  {
   "cell_type": "code",
   "execution_count": null,
   "id": "38258da1",
   "metadata": {},
   "outputs": [],
   "source": [
    "df['Year_Factor'].unique()"
   ]
  },
  {
   "cell_type": "code",
   "execution_count": null,
   "id": "d4964b44",
   "metadata": {},
   "outputs": [],
   "source": [
    "test_df['Year_Factor'].describe()"
   ]
  },
  {
   "cell_type": "code",
   "execution_count": null,
   "id": "aa534026",
   "metadata": {},
   "outputs": [],
   "source": []
  }
 ],
 "metadata": {
  "kernelspec": {
   "display_name": "Python 3 (ipykernel)",
   "language": "python",
   "name": "python3"
  },
  "language_info": {
   "codemirror_mode": {
    "name": "ipython",
    "version": 3
   },
   "file_extension": ".py",
   "mimetype": "text/x-python",
   "name": "python",
   "nbconvert_exporter": "python",
   "pygments_lexer": "ipython3",
   "version": "3.9.7"
  }
 },
 "nbformat": 4,
 "nbformat_minor": 5
}
