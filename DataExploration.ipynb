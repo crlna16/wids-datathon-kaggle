{
 "cells": [
  {
   "cell_type": "code",
   "execution_count": 1,
   "metadata": {},
   "outputs": [],
   "source": [
    "import numpy as np\n",
    "import pandas as pd"
   ]
  },
  {
   "cell_type": "code",
   "execution_count": 2,
   "metadata": {},
   "outputs": [],
   "source": [
    "from matplotlib import pyplot as plt\n",
    "import seaborn as sns"
   ]
  },
  {
   "cell_type": "code",
   "execution_count": 3,
   "metadata": {},
   "outputs": [],
   "source": [
    "sns.set_style('whitegrid')"
   ]
  },
  {
   "cell_type": "code",
   "execution_count": 4,
   "metadata": {},
   "outputs": [],
   "source": [
    "np.random.seed(1767)"
   ]
  },
  {
   "cell_type": "markdown",
   "metadata": {},
   "source": [
    "Your task is to predict the Site EUI for each row, given the characteristics of the building and the weather data for the location of the building. "
   ]
  },
  {
   "cell_type": "code",
   "execution_count": 94,
   "metadata": {},
   "outputs": [],
   "source": [
    "df = pd.read_csv('./data/train.csv.zip').drop(columns=['id'])\n",
    "df.columns = df.columns.str.lower()"
   ]
  },
  {
   "cell_type": "code",
   "execution_count": 95,
   "metadata": {},
   "outputs": [],
   "source": [
    "test_df = pd.read_csv('./data/test.csv.zip').drop(columns=['id'])\n",
    "test_df.columns = test_df.columns.str.lower()"
   ]
  },
  {
   "cell_type": "code",
   "execution_count": 96,
   "metadata": {},
   "outputs": [
    {
     "data": {
      "text/html": [
       "<div>\n",
       "<style scoped>\n",
       "    .dataframe tbody tr th:only-of-type {\n",
       "        vertical-align: middle;\n",
       "    }\n",
       "\n",
       "    .dataframe tbody tr th {\n",
       "        vertical-align: top;\n",
       "    }\n",
       "\n",
       "    .dataframe thead th {\n",
       "        text-align: right;\n",
       "    }\n",
       "</style>\n",
       "<table border=\"1\" class=\"dataframe\">\n",
       "  <thead>\n",
       "    <tr style=\"text-align: right;\">\n",
       "      <th></th>\n",
       "      <th>year_factor</th>\n",
       "      <th>state_factor</th>\n",
       "      <th>building_class</th>\n",
       "      <th>facility_type</th>\n",
       "      <th>floor_area</th>\n",
       "      <th>year_built</th>\n",
       "      <th>energy_star_rating</th>\n",
       "      <th>elevation</th>\n",
       "      <th>january_min_temp</th>\n",
       "      <th>january_avg_temp</th>\n",
       "      <th>...</th>\n",
       "      <th>days_below_0f</th>\n",
       "      <th>days_above_80f</th>\n",
       "      <th>days_above_90f</th>\n",
       "      <th>days_above_100f</th>\n",
       "      <th>days_above_110f</th>\n",
       "      <th>direction_max_wind_speed</th>\n",
       "      <th>direction_peak_wind_speed</th>\n",
       "      <th>max_wind_speed</th>\n",
       "      <th>days_with_fog</th>\n",
       "      <th>site_eui</th>\n",
       "    </tr>\n",
       "  </thead>\n",
       "  <tbody>\n",
       "    <tr>\n",
       "      <th>0</th>\n",
       "      <td>1</td>\n",
       "      <td>State_1</td>\n",
       "      <td>Commercial</td>\n",
       "      <td>Grocery_store_or_food_market</td>\n",
       "      <td>61242.0</td>\n",
       "      <td>1942.0</td>\n",
       "      <td>11.0</td>\n",
       "      <td>2.4</td>\n",
       "      <td>36</td>\n",
       "      <td>50.5</td>\n",
       "      <td>...</td>\n",
       "      <td>0</td>\n",
       "      <td>14</td>\n",
       "      <td>0</td>\n",
       "      <td>0</td>\n",
       "      <td>0</td>\n",
       "      <td>1.0</td>\n",
       "      <td>1.0</td>\n",
       "      <td>1.0</td>\n",
       "      <td>NaN</td>\n",
       "      <td>248.682615</td>\n",
       "    </tr>\n",
       "    <tr>\n",
       "      <th>1</th>\n",
       "      <td>1</td>\n",
       "      <td>State_1</td>\n",
       "      <td>Commercial</td>\n",
       "      <td>Warehouse_Distribution_or_Shipping_center</td>\n",
       "      <td>274000.0</td>\n",
       "      <td>1955.0</td>\n",
       "      <td>45.0</td>\n",
       "      <td>1.8</td>\n",
       "      <td>36</td>\n",
       "      <td>50.5</td>\n",
       "      <td>...</td>\n",
       "      <td>0</td>\n",
       "      <td>14</td>\n",
       "      <td>0</td>\n",
       "      <td>0</td>\n",
       "      <td>0</td>\n",
       "      <td>1.0</td>\n",
       "      <td>NaN</td>\n",
       "      <td>1.0</td>\n",
       "      <td>12.0</td>\n",
       "      <td>26.500150</td>\n",
       "    </tr>\n",
       "    <tr>\n",
       "      <th>2</th>\n",
       "      <td>1</td>\n",
       "      <td>State_1</td>\n",
       "      <td>Commercial</td>\n",
       "      <td>Retail_Enclosed_mall</td>\n",
       "      <td>280025.0</td>\n",
       "      <td>1951.0</td>\n",
       "      <td>97.0</td>\n",
       "      <td>1.8</td>\n",
       "      <td>36</td>\n",
       "      <td>50.5</td>\n",
       "      <td>...</td>\n",
       "      <td>0</td>\n",
       "      <td>14</td>\n",
       "      <td>0</td>\n",
       "      <td>0</td>\n",
       "      <td>0</td>\n",
       "      <td>1.0</td>\n",
       "      <td>NaN</td>\n",
       "      <td>1.0</td>\n",
       "      <td>12.0</td>\n",
       "      <td>24.693619</td>\n",
       "    </tr>\n",
       "    <tr>\n",
       "      <th>3</th>\n",
       "      <td>1</td>\n",
       "      <td>State_1</td>\n",
       "      <td>Commercial</td>\n",
       "      <td>Education_Other_classroom</td>\n",
       "      <td>55325.0</td>\n",
       "      <td>1980.0</td>\n",
       "      <td>46.0</td>\n",
       "      <td>1.8</td>\n",
       "      <td>36</td>\n",
       "      <td>50.5</td>\n",
       "      <td>...</td>\n",
       "      <td>0</td>\n",
       "      <td>14</td>\n",
       "      <td>0</td>\n",
       "      <td>0</td>\n",
       "      <td>0</td>\n",
       "      <td>1.0</td>\n",
       "      <td>NaN</td>\n",
       "      <td>1.0</td>\n",
       "      <td>12.0</td>\n",
       "      <td>48.406926</td>\n",
       "    </tr>\n",
       "    <tr>\n",
       "      <th>4</th>\n",
       "      <td>1</td>\n",
       "      <td>State_1</td>\n",
       "      <td>Commercial</td>\n",
       "      <td>Warehouse_Nonrefrigerated</td>\n",
       "      <td>66000.0</td>\n",
       "      <td>1985.0</td>\n",
       "      <td>100.0</td>\n",
       "      <td>2.4</td>\n",
       "      <td>36</td>\n",
       "      <td>50.5</td>\n",
       "      <td>...</td>\n",
       "      <td>0</td>\n",
       "      <td>14</td>\n",
       "      <td>0</td>\n",
       "      <td>0</td>\n",
       "      <td>0</td>\n",
       "      <td>1.0</td>\n",
       "      <td>1.0</td>\n",
       "      <td>1.0</td>\n",
       "      <td>NaN</td>\n",
       "      <td>3.899395</td>\n",
       "    </tr>\n",
       "  </tbody>\n",
       "</table>\n",
       "<p>5 rows × 63 columns</p>\n",
       "</div>"
      ],
      "text/plain": [
       "   year_factor state_factor building_class  \\\n",
       "0            1      State_1     Commercial   \n",
       "1            1      State_1     Commercial   \n",
       "2            1      State_1     Commercial   \n",
       "3            1      State_1     Commercial   \n",
       "4            1      State_1     Commercial   \n",
       "\n",
       "                               facility_type  floor_area  year_built  \\\n",
       "0               Grocery_store_or_food_market     61242.0      1942.0   \n",
       "1  Warehouse_Distribution_or_Shipping_center    274000.0      1955.0   \n",
       "2                       Retail_Enclosed_mall    280025.0      1951.0   \n",
       "3                  Education_Other_classroom     55325.0      1980.0   \n",
       "4                  Warehouse_Nonrefrigerated     66000.0      1985.0   \n",
       "\n",
       "   energy_star_rating  elevation  january_min_temp  january_avg_temp  ...  \\\n",
       "0                11.0        2.4                36              50.5  ...   \n",
       "1                45.0        1.8                36              50.5  ...   \n",
       "2                97.0        1.8                36              50.5  ...   \n",
       "3                46.0        1.8                36              50.5  ...   \n",
       "4               100.0        2.4                36              50.5  ...   \n",
       "\n",
       "   days_below_0f  days_above_80f  days_above_90f  days_above_100f  \\\n",
       "0              0              14               0                0   \n",
       "1              0              14               0                0   \n",
       "2              0              14               0                0   \n",
       "3              0              14               0                0   \n",
       "4              0              14               0                0   \n",
       "\n",
       "   days_above_110f  direction_max_wind_speed  direction_peak_wind_speed  \\\n",
       "0                0                       1.0                        1.0   \n",
       "1                0                       1.0                        NaN   \n",
       "2                0                       1.0                        NaN   \n",
       "3                0                       1.0                        NaN   \n",
       "4                0                       1.0                        1.0   \n",
       "\n",
       "   max_wind_speed  days_with_fog    site_eui  \n",
       "0             1.0            NaN  248.682615  \n",
       "1             1.0           12.0   26.500150  \n",
       "2             1.0           12.0   24.693619  \n",
       "3             1.0           12.0   48.406926  \n",
       "4             1.0            NaN    3.899395  \n",
       "\n",
       "[5 rows x 63 columns]"
      ]
     },
     "execution_count": 96,
     "metadata": {},
     "output_type": "execute_result"
    }
   ],
   "source": [
    "df.head()"
   ]
  },
  {
   "cell_type": "code",
   "execution_count": 97,
   "metadata": {},
   "outputs": [
    {
     "data": {
      "text/html": [
       "<div>\n",
       "<style scoped>\n",
       "    .dataframe tbody tr th:only-of-type {\n",
       "        vertical-align: middle;\n",
       "    }\n",
       "\n",
       "    .dataframe tbody tr th {\n",
       "        vertical-align: top;\n",
       "    }\n",
       "\n",
       "    .dataframe thead th {\n",
       "        text-align: right;\n",
       "    }\n",
       "</style>\n",
       "<table border=\"1\" class=\"dataframe\">\n",
       "  <thead>\n",
       "    <tr style=\"text-align: right;\">\n",
       "      <th></th>\n",
       "      <th>year_factor</th>\n",
       "      <th>floor_area</th>\n",
       "      <th>year_built</th>\n",
       "      <th>energy_star_rating</th>\n",
       "      <th>elevation</th>\n",
       "      <th>january_min_temp</th>\n",
       "      <th>january_avg_temp</th>\n",
       "      <th>january_max_temp</th>\n",
       "      <th>february_min_temp</th>\n",
       "      <th>february_avg_temp</th>\n",
       "      <th>...</th>\n",
       "      <th>days_below_0f</th>\n",
       "      <th>days_above_80f</th>\n",
       "      <th>days_above_90f</th>\n",
       "      <th>days_above_100f</th>\n",
       "      <th>days_above_110f</th>\n",
       "      <th>direction_max_wind_speed</th>\n",
       "      <th>direction_peak_wind_speed</th>\n",
       "      <th>max_wind_speed</th>\n",
       "      <th>days_with_fog</th>\n",
       "      <th>site_eui</th>\n",
       "    </tr>\n",
       "  </thead>\n",
       "  <tbody>\n",
       "    <tr>\n",
       "      <th>count</th>\n",
       "      <td>75757.000000</td>\n",
       "      <td>7.575700e+04</td>\n",
       "      <td>73920.000000</td>\n",
       "      <td>49048.000000</td>\n",
       "      <td>75757.000000</td>\n",
       "      <td>75757.000000</td>\n",
       "      <td>75757.000000</td>\n",
       "      <td>75757.000000</td>\n",
       "      <td>75757.000000</td>\n",
       "      <td>75757.000000</td>\n",
       "      <td>...</td>\n",
       "      <td>75757.000000</td>\n",
       "      <td>75757.000000</td>\n",
       "      <td>75757.000000</td>\n",
       "      <td>75757.000000</td>\n",
       "      <td>75757.000000</td>\n",
       "      <td>34675.000000</td>\n",
       "      <td>33946.000000</td>\n",
       "      <td>34675.000000</td>\n",
       "      <td>29961.000000</td>\n",
       "      <td>75757.000000</td>\n",
       "    </tr>\n",
       "    <tr>\n",
       "      <th>mean</th>\n",
       "      <td>4.367755</td>\n",
       "      <td>1.659839e+05</td>\n",
       "      <td>1952.306764</td>\n",
       "      <td>61.048605</td>\n",
       "      <td>39.506323</td>\n",
       "      <td>11.432343</td>\n",
       "      <td>34.310468</td>\n",
       "      <td>59.054952</td>\n",
       "      <td>11.720567</td>\n",
       "      <td>35.526837</td>\n",
       "      <td>...</td>\n",
       "      <td>0.876764</td>\n",
       "      <td>82.709809</td>\n",
       "      <td>14.058701</td>\n",
       "      <td>0.279539</td>\n",
       "      <td>0.002442</td>\n",
       "      <td>66.552675</td>\n",
       "      <td>62.779974</td>\n",
       "      <td>4.190601</td>\n",
       "      <td>109.142051</td>\n",
       "      <td>82.584693</td>\n",
       "    </tr>\n",
       "    <tr>\n",
       "      <th>std</th>\n",
       "      <td>1.471441</td>\n",
       "      <td>2.468758e+05</td>\n",
       "      <td>37.053619</td>\n",
       "      <td>28.663683</td>\n",
       "      <td>60.656596</td>\n",
       "      <td>9.381027</td>\n",
       "      <td>6.996108</td>\n",
       "      <td>5.355458</td>\n",
       "      <td>12.577272</td>\n",
       "      <td>8.866697</td>\n",
       "      <td>...</td>\n",
       "      <td>2.894244</td>\n",
       "      <td>25.282913</td>\n",
       "      <td>10.943996</td>\n",
       "      <td>2.252323</td>\n",
       "      <td>0.142140</td>\n",
       "      <td>131.147834</td>\n",
       "      <td>130.308106</td>\n",
       "      <td>6.458789</td>\n",
       "      <td>50.699751</td>\n",
       "      <td>58.255403</td>\n",
       "    </tr>\n",
       "    <tr>\n",
       "      <th>min</th>\n",
       "      <td>1.000000</td>\n",
       "      <td>9.430000e+02</td>\n",
       "      <td>0.000000</td>\n",
       "      <td>0.000000</td>\n",
       "      <td>-6.400000</td>\n",
       "      <td>-19.000000</td>\n",
       "      <td>10.806452</td>\n",
       "      <td>42.000000</td>\n",
       "      <td>-13.000000</td>\n",
       "      <td>13.250000</td>\n",
       "      <td>...</td>\n",
       "      <td>0.000000</td>\n",
       "      <td>0.000000</td>\n",
       "      <td>0.000000</td>\n",
       "      <td>0.000000</td>\n",
       "      <td>0.000000</td>\n",
       "      <td>1.000000</td>\n",
       "      <td>1.000000</td>\n",
       "      <td>1.000000</td>\n",
       "      <td>12.000000</td>\n",
       "      <td>1.001169</td>\n",
       "    </tr>\n",
       "    <tr>\n",
       "      <th>25%</th>\n",
       "      <td>3.000000</td>\n",
       "      <td>6.237900e+04</td>\n",
       "      <td>1927.000000</td>\n",
       "      <td>40.000000</td>\n",
       "      <td>11.900000</td>\n",
       "      <td>6.000000</td>\n",
       "      <td>29.827586</td>\n",
       "      <td>56.000000</td>\n",
       "      <td>2.000000</td>\n",
       "      <td>31.625000</td>\n",
       "      <td>...</td>\n",
       "      <td>0.000000</td>\n",
       "      <td>72.000000</td>\n",
       "      <td>6.000000</td>\n",
       "      <td>0.000000</td>\n",
       "      <td>0.000000</td>\n",
       "      <td>1.000000</td>\n",
       "      <td>1.000000</td>\n",
       "      <td>1.000000</td>\n",
       "      <td>88.000000</td>\n",
       "      <td>54.528601</td>\n",
       "    </tr>\n",
       "    <tr>\n",
       "      <th>50%</th>\n",
       "      <td>5.000000</td>\n",
       "      <td>9.136700e+04</td>\n",
       "      <td>1951.000000</td>\n",
       "      <td>67.000000</td>\n",
       "      <td>25.000000</td>\n",
       "      <td>11.000000</td>\n",
       "      <td>34.451613</td>\n",
       "      <td>59.000000</td>\n",
       "      <td>9.000000</td>\n",
       "      <td>34.107143</td>\n",
       "      <td>...</td>\n",
       "      <td>0.000000</td>\n",
       "      <td>84.000000</td>\n",
       "      <td>12.000000</td>\n",
       "      <td>0.000000</td>\n",
       "      <td>0.000000</td>\n",
       "      <td>1.000000</td>\n",
       "      <td>1.000000</td>\n",
       "      <td>1.000000</td>\n",
       "      <td>104.000000</td>\n",
       "      <td>75.293716</td>\n",
       "    </tr>\n",
       "    <tr>\n",
       "      <th>75%</th>\n",
       "      <td>6.000000</td>\n",
       "      <td>1.660000e+05</td>\n",
       "      <td>1977.000000</td>\n",
       "      <td>85.000000</td>\n",
       "      <td>42.700000</td>\n",
       "      <td>13.000000</td>\n",
       "      <td>37.322581</td>\n",
       "      <td>62.000000</td>\n",
       "      <td>20.000000</td>\n",
       "      <td>40.879310</td>\n",
       "      <td>...</td>\n",
       "      <td>0.000000</td>\n",
       "      <td>97.000000</td>\n",
       "      <td>17.000000</td>\n",
       "      <td>0.000000</td>\n",
       "      <td>0.000000</td>\n",
       "      <td>1.000000</td>\n",
       "      <td>1.000000</td>\n",
       "      <td>1.000000</td>\n",
       "      <td>131.000000</td>\n",
       "      <td>97.277534</td>\n",
       "    </tr>\n",
       "    <tr>\n",
       "      <th>max</th>\n",
       "      <td>6.000000</td>\n",
       "      <td>6.385382e+06</td>\n",
       "      <td>2015.000000</td>\n",
       "      <td>100.000000</td>\n",
       "      <td>1924.500000</td>\n",
       "      <td>49.000000</td>\n",
       "      <td>64.758065</td>\n",
       "      <td>91.000000</td>\n",
       "      <td>48.000000</td>\n",
       "      <td>65.107143</td>\n",
       "      <td>...</td>\n",
       "      <td>31.000000</td>\n",
       "      <td>260.000000</td>\n",
       "      <td>185.000000</td>\n",
       "      <td>119.000000</td>\n",
       "      <td>16.000000</td>\n",
       "      <td>360.000000</td>\n",
       "      <td>360.000000</td>\n",
       "      <td>23.300000</td>\n",
       "      <td>311.000000</td>\n",
       "      <td>997.866120</td>\n",
       "    </tr>\n",
       "  </tbody>\n",
       "</table>\n",
       "<p>8 rows × 60 columns</p>\n",
       "</div>"
      ],
      "text/plain": [
       "        year_factor    floor_area    year_built  energy_star_rating  \\\n",
       "count  75757.000000  7.575700e+04  73920.000000        49048.000000   \n",
       "mean       4.367755  1.659839e+05   1952.306764           61.048605   \n",
       "std        1.471441  2.468758e+05     37.053619           28.663683   \n",
       "min        1.000000  9.430000e+02      0.000000            0.000000   \n",
       "25%        3.000000  6.237900e+04   1927.000000           40.000000   \n",
       "50%        5.000000  9.136700e+04   1951.000000           67.000000   \n",
       "75%        6.000000  1.660000e+05   1977.000000           85.000000   \n",
       "max        6.000000  6.385382e+06   2015.000000          100.000000   \n",
       "\n",
       "          elevation  january_min_temp  january_avg_temp  january_max_temp  \\\n",
       "count  75757.000000      75757.000000      75757.000000      75757.000000   \n",
       "mean      39.506323         11.432343         34.310468         59.054952   \n",
       "std       60.656596          9.381027          6.996108          5.355458   \n",
       "min       -6.400000        -19.000000         10.806452         42.000000   \n",
       "25%       11.900000          6.000000         29.827586         56.000000   \n",
       "50%       25.000000         11.000000         34.451613         59.000000   \n",
       "75%       42.700000         13.000000         37.322581         62.000000   \n",
       "max     1924.500000         49.000000         64.758065         91.000000   \n",
       "\n",
       "       february_min_temp  february_avg_temp  ...  days_below_0f  \\\n",
       "count       75757.000000       75757.000000  ...   75757.000000   \n",
       "mean           11.720567          35.526837  ...       0.876764   \n",
       "std            12.577272           8.866697  ...       2.894244   \n",
       "min           -13.000000          13.250000  ...       0.000000   \n",
       "25%             2.000000          31.625000  ...       0.000000   \n",
       "50%             9.000000          34.107143  ...       0.000000   \n",
       "75%            20.000000          40.879310  ...       0.000000   \n",
       "max            48.000000          65.107143  ...      31.000000   \n",
       "\n",
       "       days_above_80f  days_above_90f  days_above_100f  days_above_110f  \\\n",
       "count    75757.000000    75757.000000     75757.000000     75757.000000   \n",
       "mean        82.709809       14.058701         0.279539         0.002442   \n",
       "std         25.282913       10.943996         2.252323         0.142140   \n",
       "min          0.000000        0.000000         0.000000         0.000000   \n",
       "25%         72.000000        6.000000         0.000000         0.000000   \n",
       "50%         84.000000       12.000000         0.000000         0.000000   \n",
       "75%         97.000000       17.000000         0.000000         0.000000   \n",
       "max        260.000000      185.000000       119.000000        16.000000   \n",
       "\n",
       "       direction_max_wind_speed  direction_peak_wind_speed  max_wind_speed  \\\n",
       "count              34675.000000               33946.000000    34675.000000   \n",
       "mean                  66.552675                  62.779974        4.190601   \n",
       "std                  131.147834                 130.308106        6.458789   \n",
       "min                    1.000000                   1.000000        1.000000   \n",
       "25%                    1.000000                   1.000000        1.000000   \n",
       "50%                    1.000000                   1.000000        1.000000   \n",
       "75%                    1.000000                   1.000000        1.000000   \n",
       "max                  360.000000                 360.000000       23.300000   \n",
       "\n",
       "       days_with_fog      site_eui  \n",
       "count   29961.000000  75757.000000  \n",
       "mean      109.142051     82.584693  \n",
       "std        50.699751     58.255403  \n",
       "min        12.000000      1.001169  \n",
       "25%        88.000000     54.528601  \n",
       "50%       104.000000     75.293716  \n",
       "75%       131.000000     97.277534  \n",
       "max       311.000000    997.866120  \n",
       "\n",
       "[8 rows x 60 columns]"
      ]
     },
     "execution_count": 97,
     "metadata": {},
     "output_type": "execute_result"
    }
   ],
   "source": [
    "df.describe()"
   ]
  },
  {
   "cell_type": "code",
   "execution_count": 98,
   "metadata": {},
   "outputs": [
    {
     "data": {
      "text/html": [
       "<div>\n",
       "<style scoped>\n",
       "    .dataframe tbody tr th:only-of-type {\n",
       "        vertical-align: middle;\n",
       "    }\n",
       "\n",
       "    .dataframe tbody tr th {\n",
       "        vertical-align: top;\n",
       "    }\n",
       "\n",
       "    .dataframe thead th {\n",
       "        text-align: right;\n",
       "    }\n",
       "</style>\n",
       "<table border=\"1\" class=\"dataframe\">\n",
       "  <thead>\n",
       "    <tr style=\"text-align: right;\">\n",
       "      <th></th>\n",
       "      <th>year_factor</th>\n",
       "      <th>floor_area</th>\n",
       "      <th>year_built</th>\n",
       "      <th>energy_star_rating</th>\n",
       "      <th>elevation</th>\n",
       "      <th>january_min_temp</th>\n",
       "      <th>january_avg_temp</th>\n",
       "      <th>january_max_temp</th>\n",
       "      <th>february_min_temp</th>\n",
       "      <th>february_avg_temp</th>\n",
       "      <th>...</th>\n",
       "      <th>days_below_10f</th>\n",
       "      <th>days_below_0f</th>\n",
       "      <th>days_above_80f</th>\n",
       "      <th>days_above_90f</th>\n",
       "      <th>days_above_100f</th>\n",
       "      <th>days_above_110f</th>\n",
       "      <th>direction_max_wind_speed</th>\n",
       "      <th>direction_peak_wind_speed</th>\n",
       "      <th>max_wind_speed</th>\n",
       "      <th>days_with_fog</th>\n",
       "    </tr>\n",
       "  </thead>\n",
       "  <tbody>\n",
       "    <tr>\n",
       "      <th>count</th>\n",
       "      <td>9705.0</td>\n",
       "      <td>9.705000e+03</td>\n",
       "      <td>9613.000000</td>\n",
       "      <td>7451.000000</td>\n",
       "      <td>9705.000000</td>\n",
       "      <td>9705.000000</td>\n",
       "      <td>9705.000000</td>\n",
       "      <td>9705.000000</td>\n",
       "      <td>9705.000000</td>\n",
       "      <td>9705.000000</td>\n",
       "      <td>...</td>\n",
       "      <td>9705.000000</td>\n",
       "      <td>9705.000000</td>\n",
       "      <td>9705.000000</td>\n",
       "      <td>9705.000000</td>\n",
       "      <td>9705.000000</td>\n",
       "      <td>9705.0</td>\n",
       "      <td>1130.000000</td>\n",
       "      <td>1130.000000</td>\n",
       "      <td>1130.000000</td>\n",
       "      <td>588.000000</td>\n",
       "    </tr>\n",
       "    <tr>\n",
       "      <th>mean</th>\n",
       "      <td>7.0</td>\n",
       "      <td>1.632143e+05</td>\n",
       "      <td>1963.219598</td>\n",
       "      <td>64.712924</td>\n",
       "      <td>205.231190</td>\n",
       "      <td>13.520762</td>\n",
       "      <td>36.678081</td>\n",
       "      <td>60.008449</td>\n",
       "      <td>21.705100</td>\n",
       "      <td>41.634886</td>\n",
       "      <td>...</td>\n",
       "      <td>5.371561</td>\n",
       "      <td>1.323029</td>\n",
       "      <td>66.820093</td>\n",
       "      <td>11.941267</td>\n",
       "      <td>0.211643</td>\n",
       "      <td>0.0</td>\n",
       "      <td>321.743363</td>\n",
       "      <td>310.194690</td>\n",
       "      <td>18.131327</td>\n",
       "      <td>150.755102</td>\n",
       "    </tr>\n",
       "    <tr>\n",
       "      <th>std</th>\n",
       "      <td>0.0</td>\n",
       "      <td>2.624759e+05</td>\n",
       "      <td>40.819953</td>\n",
       "      <td>27.935984</td>\n",
       "      <td>264.822814</td>\n",
       "      <td>12.458365</td>\n",
       "      <td>6.968520</td>\n",
       "      <td>5.874699</td>\n",
       "      <td>9.774624</td>\n",
       "      <td>5.528689</td>\n",
       "      <td>...</td>\n",
       "      <td>6.676871</td>\n",
       "      <td>2.205729</td>\n",
       "      <td>30.936872</td>\n",
       "      <td>13.077936</td>\n",
       "      <td>0.615250</td>\n",
       "      <td>0.0</td>\n",
       "      <td>19.127690</td>\n",
       "      <td>38.969875</td>\n",
       "      <td>1.993348</td>\n",
       "      <td>58.760576</td>\n",
       "    </tr>\n",
       "    <tr>\n",
       "      <th>min</th>\n",
       "      <td>7.0</td>\n",
       "      <td>5.982000e+03</td>\n",
       "      <td>0.000000</td>\n",
       "      <td>1.000000</td>\n",
       "      <td>1.800000</td>\n",
       "      <td>-1.000000</td>\n",
       "      <td>27.548387</td>\n",
       "      <td>42.000000</td>\n",
       "      <td>9.000000</td>\n",
       "      <td>33.428571</td>\n",
       "      <td>...</td>\n",
       "      <td>0.000000</td>\n",
       "      <td>0.000000</td>\n",
       "      <td>15.000000</td>\n",
       "      <td>1.000000</td>\n",
       "      <td>0.000000</td>\n",
       "      <td>0.0</td>\n",
       "      <td>280.000000</td>\n",
       "      <td>240.000000</td>\n",
       "      <td>14.800000</td>\n",
       "      <td>34.000000</td>\n",
       "    </tr>\n",
       "    <tr>\n",
       "      <th>25%</th>\n",
       "      <td>7.0</td>\n",
       "      <td>4.802000e+04</td>\n",
       "      <td>1929.000000</td>\n",
       "      <td>45.000000</td>\n",
       "      <td>26.500000</td>\n",
       "      <td>-1.000000</td>\n",
       "      <td>27.548387</td>\n",
       "      <td>54.000000</td>\n",
       "      <td>9.000000</td>\n",
       "      <td>36.053571</td>\n",
       "      <td>...</td>\n",
       "      <td>0.000000</td>\n",
       "      <td>0.000000</td>\n",
       "      <td>39.000000</td>\n",
       "      <td>3.000000</td>\n",
       "      <td>0.000000</td>\n",
       "      <td>0.0</td>\n",
       "      <td>310.000000</td>\n",
       "      <td>270.000000</td>\n",
       "      <td>16.500000</td>\n",
       "      <td>129.000000</td>\n",
       "    </tr>\n",
       "    <tr>\n",
       "      <th>50%</th>\n",
       "      <td>7.0</td>\n",
       "      <td>8.248600e+04</td>\n",
       "      <td>1969.000000</td>\n",
       "      <td>72.000000</td>\n",
       "      <td>118.900000</td>\n",
       "      <td>15.000000</td>\n",
       "      <td>38.661290</td>\n",
       "      <td>59.000000</td>\n",
       "      <td>22.000000</td>\n",
       "      <td>41.625000</td>\n",
       "      <td>...</td>\n",
       "      <td>0.000000</td>\n",
       "      <td>0.000000</td>\n",
       "      <td>77.000000</td>\n",
       "      <td>5.000000</td>\n",
       "      <td>0.000000</td>\n",
       "      <td>0.0</td>\n",
       "      <td>330.000000</td>\n",
       "      <td>320.000000</td>\n",
       "      <td>18.300000</td>\n",
       "      <td>129.000000</td>\n",
       "    </tr>\n",
       "    <tr>\n",
       "      <th>75%</th>\n",
       "      <td>7.0</td>\n",
       "      <td>1.775200e+05</td>\n",
       "      <td>1994.000000</td>\n",
       "      <td>88.000000</td>\n",
       "      <td>231.300000</td>\n",
       "      <td>21.000000</td>\n",
       "      <td>41.177419</td>\n",
       "      <td>64.000000</td>\n",
       "      <td>28.000000</td>\n",
       "      <td>45.685185</td>\n",
       "      <td>...</td>\n",
       "      <td>14.000000</td>\n",
       "      <td>5.000000</td>\n",
       "      <td>79.000000</td>\n",
       "      <td>12.000000</td>\n",
       "      <td>0.000000</td>\n",
       "      <td>0.0</td>\n",
       "      <td>340.000000</td>\n",
       "      <td>340.000000</td>\n",
       "      <td>19.200000</td>\n",
       "      <td>138.000000</td>\n",
       "    </tr>\n",
       "    <tr>\n",
       "      <th>max</th>\n",
       "      <td>7.0</td>\n",
       "      <td>6.353396e+06</td>\n",
       "      <td>2016.000000</td>\n",
       "      <td>100.000000</td>\n",
       "      <td>812.000000</td>\n",
       "      <td>38.000000</td>\n",
       "      <td>50.596774</td>\n",
       "      <td>71.000000</td>\n",
       "      <td>40.000000</td>\n",
       "      <td>54.482143</td>\n",
       "      <td>...</td>\n",
       "      <td>14.000000</td>\n",
       "      <td>5.000000</td>\n",
       "      <td>122.000000</td>\n",
       "      <td>41.000000</td>\n",
       "      <td>2.000000</td>\n",
       "      <td>0.0</td>\n",
       "      <td>360.000000</td>\n",
       "      <td>350.000000</td>\n",
       "      <td>23.300000</td>\n",
       "      <td>250.000000</td>\n",
       "    </tr>\n",
       "  </tbody>\n",
       "</table>\n",
       "<p>8 rows × 59 columns</p>\n",
       "</div>"
      ],
      "text/plain": [
       "       year_factor    floor_area   year_built  energy_star_rating  \\\n",
       "count       9705.0  9.705000e+03  9613.000000         7451.000000   \n",
       "mean           7.0  1.632143e+05  1963.219598           64.712924   \n",
       "std            0.0  2.624759e+05    40.819953           27.935984   \n",
       "min            7.0  5.982000e+03     0.000000            1.000000   \n",
       "25%            7.0  4.802000e+04  1929.000000           45.000000   \n",
       "50%            7.0  8.248600e+04  1969.000000           72.000000   \n",
       "75%            7.0  1.775200e+05  1994.000000           88.000000   \n",
       "max            7.0  6.353396e+06  2016.000000          100.000000   \n",
       "\n",
       "         elevation  january_min_temp  january_avg_temp  january_max_temp  \\\n",
       "count  9705.000000       9705.000000       9705.000000       9705.000000   \n",
       "mean    205.231190         13.520762         36.678081         60.008449   \n",
       "std     264.822814         12.458365          6.968520          5.874699   \n",
       "min       1.800000         -1.000000         27.548387         42.000000   \n",
       "25%      26.500000         -1.000000         27.548387         54.000000   \n",
       "50%     118.900000         15.000000         38.661290         59.000000   \n",
       "75%     231.300000         21.000000         41.177419         64.000000   \n",
       "max     812.000000         38.000000         50.596774         71.000000   \n",
       "\n",
       "       february_min_temp  february_avg_temp  ...  days_below_10f  \\\n",
       "count        9705.000000        9705.000000  ...     9705.000000   \n",
       "mean           21.705100          41.634886  ...        5.371561   \n",
       "std             9.774624           5.528689  ...        6.676871   \n",
       "min             9.000000          33.428571  ...        0.000000   \n",
       "25%             9.000000          36.053571  ...        0.000000   \n",
       "50%            22.000000          41.625000  ...        0.000000   \n",
       "75%            28.000000          45.685185  ...       14.000000   \n",
       "max            40.000000          54.482143  ...       14.000000   \n",
       "\n",
       "       days_below_0f  days_above_80f  days_above_90f  days_above_100f  \\\n",
       "count    9705.000000     9705.000000     9705.000000      9705.000000   \n",
       "mean        1.323029       66.820093       11.941267         0.211643   \n",
       "std         2.205729       30.936872       13.077936         0.615250   \n",
       "min         0.000000       15.000000        1.000000         0.000000   \n",
       "25%         0.000000       39.000000        3.000000         0.000000   \n",
       "50%         0.000000       77.000000        5.000000         0.000000   \n",
       "75%         5.000000       79.000000       12.000000         0.000000   \n",
       "max         5.000000      122.000000       41.000000         2.000000   \n",
       "\n",
       "       days_above_110f  direction_max_wind_speed  direction_peak_wind_speed  \\\n",
       "count           9705.0               1130.000000                1130.000000   \n",
       "mean               0.0                321.743363                 310.194690   \n",
       "std                0.0                 19.127690                  38.969875   \n",
       "min                0.0                280.000000                 240.000000   \n",
       "25%                0.0                310.000000                 270.000000   \n",
       "50%                0.0                330.000000                 320.000000   \n",
       "75%                0.0                340.000000                 340.000000   \n",
       "max                0.0                360.000000                 350.000000   \n",
       "\n",
       "       max_wind_speed  days_with_fog  \n",
       "count     1130.000000     588.000000  \n",
       "mean        18.131327     150.755102  \n",
       "std          1.993348      58.760576  \n",
       "min         14.800000      34.000000  \n",
       "25%         16.500000     129.000000  \n",
       "50%         18.300000     129.000000  \n",
       "75%         19.200000     138.000000  \n",
       "max         23.300000     250.000000  \n",
       "\n",
       "[8 rows x 59 columns]"
      ]
     },
     "execution_count": 98,
     "metadata": {},
     "output_type": "execute_result"
    }
   ],
   "source": [
    "test_df.clip().describe()"
   ]
  },
  {
   "cell_type": "code",
   "execution_count": 99,
   "metadata": {},
   "outputs": [
    {
     "data": {
      "text/plain": [
       "['state_factor', 'building_class', 'facility_type']"
      ]
     },
     "execution_count": 99,
     "metadata": {},
     "output_type": "execute_result"
    }
   ],
   "source": [
    "cat_columns = list(df.select_dtypes(['object']).columns)\n",
    "cat_columns"
   ]
  },
  {
   "cell_type": "code",
   "execution_count": 100,
   "metadata": {},
   "outputs": [],
   "source": [
    "for cc in cat_columns:\n",
    "    df[f'{cc}_'] = df[cc].astype('category').cat.codes\n",
    "    test_df[f'{cc}_'] = test_df[cc].astype('category').cat.codes    \n",
    "#df = df.drop(columns=cat_columns)"
   ]
  },
  {
   "cell_type": "code",
   "execution_count": 12,
   "metadata": {},
   "outputs": [
    {
     "name": "stdout",
     "output_type": "stream",
     "text": [
      "<class 'pandas.core.frame.DataFrame'>\n",
      "RangeIndex: 75757 entries, 0 to 75756\n",
      "Data columns (total 66 columns):\n",
      " #   Column                     Non-Null Count  Dtype  \n",
      "---  ------                     --------------  -----  \n",
      " 0   year_factor                75757 non-null  int64  \n",
      " 1   state_factor               75757 non-null  object \n",
      " 2   building_class             75757 non-null  object \n",
      " 3   facility_type              75757 non-null  object \n",
      " 4   floor_area                 75757 non-null  float64\n",
      " 5   year_built                 73920 non-null  float64\n",
      " 6   energy_star_rating         49048 non-null  float64\n",
      " 7   elevation                  75757 non-null  float64\n",
      " 8   january_min_temp           75757 non-null  int64  \n",
      " 9   january_avg_temp           75757 non-null  float64\n",
      " 10  january_max_temp           75757 non-null  int64  \n",
      " 11  february_min_temp          75757 non-null  int64  \n",
      " 12  february_avg_temp          75757 non-null  float64\n",
      " 13  february_max_temp          75757 non-null  int64  \n",
      " 14  march_min_temp             75757 non-null  int64  \n",
      " 15  march_avg_temp             75757 non-null  float64\n",
      " 16  march_max_temp             75757 non-null  int64  \n",
      " 17  april_min_temp             75757 non-null  int64  \n",
      " 18  april_avg_temp             75757 non-null  float64\n",
      " 19  april_max_temp             75757 non-null  int64  \n",
      " 20  may_min_temp               75757 non-null  int64  \n",
      " 21  may_avg_temp               75757 non-null  float64\n",
      " 22  may_max_temp               75757 non-null  int64  \n",
      " 23  june_min_temp              75757 non-null  int64  \n",
      " 24  june_avg_temp              75757 non-null  float64\n",
      " 25  june_max_temp              75757 non-null  int64  \n",
      " 26  july_min_temp              75757 non-null  int64  \n",
      " 27  july_avg_temp              75757 non-null  float64\n",
      " 28  july_max_temp              75757 non-null  int64  \n",
      " 29  august_min_temp            75757 non-null  int64  \n",
      " 30  august_avg_temp            75757 non-null  float64\n",
      " 31  august_max_temp            75757 non-null  int64  \n",
      " 32  september_min_temp         75757 non-null  int64  \n",
      " 33  september_avg_temp         75757 non-null  float64\n",
      " 34  september_max_temp         75757 non-null  int64  \n",
      " 35  october_min_temp           75757 non-null  int64  \n",
      " 36  october_avg_temp           75757 non-null  float64\n",
      " 37  october_max_temp           75757 non-null  int64  \n",
      " 38  november_min_temp          75757 non-null  int64  \n",
      " 39  november_avg_temp          75757 non-null  float64\n",
      " 40  november_max_temp          75757 non-null  int64  \n",
      " 41  december_min_temp          75757 non-null  int64  \n",
      " 42  december_avg_temp          75757 non-null  float64\n",
      " 43  december_max_temp          75757 non-null  int64  \n",
      " 44  cooling_degree_days        75757 non-null  int64  \n",
      " 45  heating_degree_days        75757 non-null  int64  \n",
      " 46  precipitation_inches       75757 non-null  float64\n",
      " 47  snowfall_inches            75757 non-null  float64\n",
      " 48  snowdepth_inches           75757 non-null  int64  \n",
      " 49  avg_temp                   75757 non-null  float64\n",
      " 50  days_below_30f             75757 non-null  int64  \n",
      " 51  days_below_20f             75757 non-null  int64  \n",
      " 52  days_below_10f             75757 non-null  int64  \n",
      " 53  days_below_0f              75757 non-null  int64  \n",
      " 54  days_above_80f             75757 non-null  int64  \n",
      " 55  days_above_90f             75757 non-null  int64  \n",
      " 56  days_above_100f            75757 non-null  int64  \n",
      " 57  days_above_110f            75757 non-null  int64  \n",
      " 58  direction_max_wind_speed   34675 non-null  float64\n",
      " 59  direction_peak_wind_speed  33946 non-null  float64\n",
      " 60  max_wind_speed             34675 non-null  float64\n",
      " 61  days_with_fog              29961 non-null  float64\n",
      " 62  site_eui                   75757 non-null  float64\n",
      " 63  state_factor_              75757 non-null  int8   \n",
      " 64  building_class_            75757 non-null  int8   \n",
      " 65  facility_type_             75757 non-null  int8   \n",
      "dtypes: float64(24), int64(36), int8(3), object(3)\n",
      "memory usage: 36.6+ MB\n"
     ]
    }
   ],
   "source": [
    "df.info()"
   ]
  },
  {
   "cell_type": "code",
   "execution_count": 13,
   "metadata": {},
   "outputs": [
    {
     "data": {
      "text/plain": [
       "days_below_30f         0.139811\n",
       "heating_degree_days    0.147861\n",
       "snowfall_inches        0.157284\n",
       "state_factor_          0.165703\n",
       "site_eui               1.000000\n",
       "Name: site_eui, dtype: float64"
      ]
     },
     "execution_count": 13,
     "metadata": {},
     "output_type": "execute_result"
    }
   ],
   "source": [
    "df.corr()['site_eui'].sort_values().head()\n",
    "df.corr()['site_eui'].sort_values().tail()"
   ]
  },
  {
   "cell_type": "code",
   "execution_count": 14,
   "metadata": {},
   "outputs": [
    {
     "data": {
      "text/plain": [
       "february_avg_temp     0.137479\n",
       "january_min_temp      0.144452\n",
       "january_avg_temp      0.149421\n",
       "energy_star_rating    1.000000\n",
       "days_above_110f            NaN\n",
       "Name: energy_star_rating, dtype: float64"
      ]
     },
     "execution_count": 14,
     "metadata": {},
     "output_type": "execute_result"
    }
   ],
   "source": [
    "df.corr()['energy_star_rating'].sort_values().tail()"
   ]
  },
  {
   "cell_type": "markdown",
   "metadata": {},
   "source": [
    "## Data exploration"
   ]
  },
  {
   "cell_type": "code",
   "execution_count": 15,
   "metadata": {},
   "outputs": [
    {
     "data": {
      "text/plain": [
       "<AxesSubplot:xlabel='floor_area', ylabel='site_eui'>"
      ]
     },
     "execution_count": 15,
     "metadata": {},
     "output_type": "execute_result"
    },
    {
     "data": {
      "image/png": "[encoded data removed]",
      "text/plain": [
       "<Figure size 432x288 with 1 Axes>"
      ]
     },
     "metadata": {},
     "output_type": "display_data"
    }
   ],
   "source": [
    "sns.scatterplot(data=df, x='floor_area', y='site_eui')"
   ]
  },
  {
   "cell_type": "code",
   "execution_count": 16,
   "metadata": {},
   "outputs": [],
   "source": [
    "C = df.corr()"
   ]
  },
  {
   "cell_type": "code",
   "execution_count": 17,
   "metadata": {},
   "outputs": [
    {
     "data": {
      "image/png": "[encoded data removed]",
      "text/plain": [
       "<Figure size 432x288 with 2 Axes>"
      ]
     },
     "metadata": {},
     "output_type": "display_data"
    }
   ],
   "source": [
    "sns.heatmap(np.abs(C))\n",
    "ax=plt.gca()\n",
    "ax.set_aspect('equal')"
   ]
  },
  {
   "cell_type": "code",
   "execution_count": 18,
   "metadata": {},
   "outputs": [],
   "source": [
    "mean_train = df.drop(columns=['site_eui']).describe().loc['mean']\n",
    "mean_test  = test_df.describe().loc['mean']"
   ]
  },
  {
   "cell_type": "code",
   "execution_count": 19,
   "metadata": {},
   "outputs": [
    {
     "data": {
      "text/plain": [
       "[<matplotlib.lines.Line2D at 0x2b7420840040>]"
      ]
     },
     "execution_count": 19,
     "metadata": {},
     "output_type": "execute_result"
    },
    {
     "data": {
      "image/png": "[encoded data removed]",
      "text/plain": [
       "<Figure size 432x288 with 1 Axes>"
      ]
     },
     "metadata": {},
     "output_type": "display_data"
    }
   ],
   "source": [
    "plt.plot(mean_test / mean_train)"
   ]
  },
  {
   "cell_type": "code",
   "execution_count": 20,
   "metadata": {},
   "outputs": [
    {
     "data": {
      "text/plain": [
       "Index(['floor_area', 'year_built', 'energy_star_rating', 'january_avg_temp',\n",
       "       'january_max_temp', 'march_min_temp', 'march_avg_temp',\n",
       "       'march_max_temp', 'april_min_temp', 'april_avg_temp', 'april_max_temp',\n",
       "       'may_avg_temp', 'may_max_temp', 'june_avg_temp', 'june_max_temp',\n",
       "       'july_avg_temp', 'july_max_temp', 'august_avg_temp', 'august_max_temp',\n",
       "       'september_min_temp', 'september_avg_temp', 'september_max_temp',\n",
       "       'october_min_temp', 'october_avg_temp', 'october_max_temp',\n",
       "       'november_avg_temp', 'november_max_temp', 'december_max_temp',\n",
       "       'heating_degree_days', 'precipitation_inches', 'avg_temp',\n",
       "       'days_below_10f'],\n",
       "      dtype='object')"
      ]
     },
     "execution_count": 20,
     "metadata": {},
     "output_type": "execute_result"
    }
   ],
   "source": [
    "tmp = ((mean_test / mean_train - 1).abs() < 0.1)\n",
    "tmp[tmp==1].index"
   ]
  },
  {
   "cell_type": "code",
   "execution_count": 21,
   "metadata": {},
   "outputs": [
    {
     "data": {
      "text/plain": [
       "(65, 66)"
      ]
     },
     "execution_count": 21,
     "metadata": {},
     "output_type": "execute_result"
    }
   ],
   "source": [
    "len(test_df.columns), len(df.columns)"
   ]
  },
  {
   "cell_type": "code",
   "execution_count": 22,
   "metadata": {},
   "outputs": [
    {
     "data": {
      "text/plain": [
       "days_with_fog                45796\n",
       "direction_peak_wind_speed    41811\n",
       "direction_max_wind_speed     41082\n",
       "max_wind_speed               41082\n",
       "energy_star_rating           26709\n",
       "year_built                    1837\n",
       "december_min_temp                0\n",
       "precipitation_inches             0\n",
       "heating_degree_days              0\n",
       "cooling_degree_days              0\n",
       "december_max_temp                0\n",
       "december_avg_temp                0\n",
       "year_factor                      0\n",
       "november_max_temp                0\n",
       "november_avg_temp                0\n",
       "snowdepth_inches                 0\n",
       "november_min_temp                0\n",
       "october_max_temp                 0\n",
       "october_avg_temp                 0\n",
       "snowfall_inches                  0\n",
       "days_below_20f                   0\n",
       "avg_temp                         0\n",
       "days_below_30f                   0\n",
       "september_max_temp               0\n",
       "days_below_10f                   0\n",
       "days_below_0f                    0\n",
       "days_above_80f                   0\n",
       "days_above_90f                   0\n",
       "days_above_100f                  0\n",
       "days_above_110f                  0\n",
       "dtype: int64"
      ]
     },
     "execution_count": 22,
     "metadata": {},
     "output_type": "execute_result"
    }
   ],
   "source": [
    "df.isna().sum().sort_values(ascending=False).head(30)"
   ]
  },
  {
   "cell_type": "code",
   "execution_count": 30,
   "metadata": {},
   "outputs": [
    {
     "name": "stdout",
     "output_type": "stream",
     "text": [
      "<class 'pandas.core.frame.DataFrame'>\n",
      "RangeIndex: 75757 entries, 0 to 75756\n",
      "Data columns (total 66 columns):\n",
      " #   Column                     Non-Null Count  Dtype  \n",
      "---  ------                     --------------  -----  \n",
      " 0   year_factor                75757 non-null  int64  \n",
      " 1   state_factor               75757 non-null  object \n",
      " 2   building_class             75757 non-null  object \n",
      " 3   facility_type              75757 non-null  object \n",
      " 4   floor_area                 75757 non-null  float64\n",
      " 5   year_built                 73920 non-null  float64\n",
      " 6   energy_star_rating         49048 non-null  float64\n",
      " 7   elevation                  75757 non-null  float64\n",
      " 8   january_min_temp           75757 non-null  int64  \n",
      " 9   january_avg_temp           75757 non-null  float64\n",
      " 10  january_max_temp           75757 non-null  int64  \n",
      " 11  february_min_temp          75757 non-null  int64  \n",
      " 12  february_avg_temp          75757 non-null  float64\n",
      " 13  february_max_temp          75757 non-null  int64  \n",
      " 14  march_min_temp             75757 non-null  int64  \n",
      " 15  march_avg_temp             75757 non-null  float64\n",
      " 16  march_max_temp             75757 non-null  int64  \n",
      " 17  april_min_temp             75757 non-null  int64  \n",
      " 18  april_avg_temp             75757 non-null  float64\n",
      " 19  april_max_temp             75757 non-null  int64  \n",
      " 20  may_min_temp               75757 non-null  int64  \n",
      " 21  may_avg_temp               75757 non-null  float64\n",
      " 22  may_max_temp               75757 non-null  int64  \n",
      " 23  june_min_temp              75757 non-null  int64  \n",
      " 24  june_avg_temp              75757 non-null  float64\n",
      " 25  june_max_temp              75757 non-null  int64  \n",
      " 26  july_min_temp              75757 non-null  int64  \n",
      " 27  july_avg_temp              75757 non-null  float64\n",
      " 28  july_max_temp              75757 non-null  int64  \n",
      " 29  august_min_temp            75757 non-null  int64  \n",
      " 30  august_avg_temp            75757 non-null  float64\n",
      " 31  august_max_temp            75757 non-null  int64  \n",
      " 32  september_min_temp         75757 non-null  int64  \n",
      " 33  september_avg_temp         75757 non-null  float64\n",
      " 34  september_max_temp         75757 non-null  int64  \n",
      " 35  october_min_temp           75757 non-null  int64  \n",
      " 36  october_avg_temp           75757 non-null  float64\n",
      " 37  october_max_temp           75757 non-null  int64  \n",
      " 38  november_min_temp          75757 non-null  int64  \n",
      " 39  november_avg_temp          75757 non-null  float64\n",
      " 40  november_max_temp          75757 non-null  int64  \n",
      " 41  december_min_temp          75757 non-null  int64  \n",
      " 42  december_avg_temp          75757 non-null  float64\n",
      " 43  december_max_temp          75757 non-null  int64  \n",
      " 44  cooling_degree_days        75757 non-null  int64  \n",
      " 45  heating_degree_days        75757 non-null  int64  \n",
      " 46  precipitation_inches       75757 non-null  float64\n",
      " 47  snowfall_inches            75757 non-null  float64\n",
      " 48  snowdepth_inches           75757 non-null  int64  \n",
      " 49  avg_temp                   75757 non-null  float64\n",
      " 50  days_below_30f             75757 non-null  int64  \n",
      " 51  days_below_20f             75757 non-null  int64  \n",
      " 52  days_below_10f             75757 non-null  int64  \n",
      " 53  days_below_0f              75757 non-null  int64  \n",
      " 54  days_above_80f             75757 non-null  int64  \n",
      " 55  days_above_90f             75757 non-null  int64  \n",
      " 56  days_above_100f            75757 non-null  int64  \n",
      " 57  days_above_110f            75757 non-null  int64  \n",
      " 58  direction_max_wind_speed   34675 non-null  float64\n",
      " 59  direction_peak_wind_speed  33946 non-null  float64\n",
      " 60  max_wind_speed             34675 non-null  float64\n",
      " 61  days_with_fog              29961 non-null  float64\n",
      " 62  site_eui                   75757 non-null  float64\n",
      " 63  state_factor_              75757 non-null  int8   \n",
      " 64  building_class_            75757 non-null  int8   \n",
      " 65  facility_type_             75757 non-null  int8   \n",
      "dtypes: float64(24), int64(36), int8(3), object(3)\n",
      "memory usage: 36.6+ MB\n"
     ]
    }
   ],
   "source": [
    "df.info()"
   ]
  },
  {
   "cell_type": "code",
   "execution_count": 70,
   "metadata": {},
   "outputs": [
    {
     "data": {
      "image/png": "[encoded data removed]",
      "text/plain": [
       "<Figure size 432x288 with 1 Axes>"
      ]
     },
     "metadata": {},
     "output_type": "display_data"
    }
   ],
   "source": [
    "for i in range(1, 7):\n",
    "    ix = df['year_factor'] == i\n",
    "    plt.hist(df.loc[ix, 'cooling_degree_days'], bins=100, density=True)"
   ]
  },
  {
   "cell_type": "code",
   "execution_count": 78,
   "metadata": {},
   "outputs": [
    {
     "data": {
      "text/plain": [
       "<matplotlib.collections.PolyCollection at 0x2b7422efb0a0>"
      ]
     },
     "execution_count": 78,
     "metadata": {},
     "output_type": "execute_result"
    },
    {
     "data": {
      "image/png": "[encoded data removed]",
      "text/plain": [
       "<Figure size 432x288 with 1 Axes>"
      ]
     },
     "metadata": {},
     "output_type": "display_data"
    }
   ],
   "source": [
    "plt.hexbin(df['facility_type_'], df['site_eui'], mincnt=1)"
   ]
  },
  {
   "cell_type": "code",
   "execution_count": 101,
   "metadata": {},
   "outputs": [
    {
     "name": "stdout",
     "output_type": "stream",
     "text": [
      "Multifamily_Uncategorized\n",
      "Office_Uncategorized\n",
      "Education_Other_classroom\n",
      "Lodging_Hotel\n",
      "2to4_Unit_Building\n",
      "Commercial_Other\n"
     ]
    }
   ],
   "source": [
    "vc = df['facility_type'].value_counts().index\n",
    "\n",
    "df.loc[:, 'old_facility_type'] = df.loc[:, 'facility_type']\n",
    "df.loc[:, 'facility_type'] = 'other'\n",
    "\n",
    "for i in range(6):\n",
    "    print(vc[i])\n",
    "    df.loc[:, 'old_facility_type'] == vc[i]\n",
    "    \n",
    "    ix = df.loc[:, 'old_facility_type'] == vc[i]\n",
    "    df.loc[ix, 'facility_type'] = vc[i]\n",
    "    \n",
    "\n",
    "df = df.drop(columns='old_facility_type')"
   ]
  },
  {
   "cell_type": "code",
   "execution_count": 109,
   "metadata": {},
   "outputs": [
    {
     "data": {
      "text/plain": [
       "(75757, 66)"
      ]
     },
     "execution_count": 109,
     "metadata": {},
     "output_type": "execute_result"
    }
   ],
   "source": [
    "df = df[~df.index.duplicated(keep='first')]\n",
    "df.shape"
   ]
  },
  {
   "cell_type": "markdown",
   "metadata": {},
   "source": [
    " 0   year_factor                75757 non-null  int64    # year factor = 7 in test set\n",
    " 1   state_factor               75757 non-null  object   # later years have more states\n",
    " 2   building_class             75757 non-null  object   # commercial / residential binary\n",
    " 3   facility_type              75757 non-null  object   # up to 60 types TODO\n",
    " 4   floor_area                 75757 non-null  float64  # TODO log transform\n",
    " 5   year_built                 73920 non-null  float64  # has zero value --> TODO fill with median\n",
    " 6   energy_star_rating         49048 non-null  float64  # TODO many missing values\n",
    " 7   elevation                  75757 non-null  float64  # DROP probably not that meaningful\n",
    " 8   january_min_temp           75757 non-null  int64  \n",
    " 9   january_avg_temp           75757 non-null  float64\n",
    " 10  january_max_temp           75757 non-null  int64  \n",
    " 11  february_min_temp          75757 non-null  int64  \n",
    " 12  february_avg_temp          75757 non-null  float64\n",
    " 13  february_max_temp          75757 non-null  int64  \n",
    " 14  march_min_temp             75757 non-null  int64  \n",
    " 15  march_avg_temp             75757 non-null  float64\n",
    " 16  march_max_temp             75757 non-null  int64  \n",
    " 17  april_min_temp             75757 non-null  int64  \n",
    " 18  april_avg_temp             75757 non-null  float64\n",
    " 19  april_max_temp             75757 non-null  int64  \n",
    " 20  may_min_temp               75757 non-null  int64  \n",
    " 21  may_avg_temp               75757 non-null  float64\n",
    " 22  may_max_temp               75757 non-null  int64  \n",
    " 23  june_min_temp              75757 non-null  int64  \n",
    " 24  june_avg_temp              75757 non-null  float64\n",
    " 25  june_max_temp              75757 non-null  int64  \n",
    " 26  july_min_temp              75757 non-null  int64  \n",
    " 27  july_avg_temp              75757 non-null  float64\n",
    " 28  july_max_temp              75757 non-null  int64  \n",
    " 29  august_min_temp            75757 non-null  int64  \n",
    " 30  august_avg_temp            75757 non-null  float64\n",
    " 31  august_max_temp            75757 non-null  int64  \n",
    " 32  september_min_temp         75757 non-null  int64  \n",
    " 33  september_avg_temp         75757 non-null  float64\n",
    " 34  september_max_temp         75757 non-null  int64  \n",
    " 35  october_min_temp           75757 non-null  int64  \n",
    " 36  october_avg_temp           75757 non-null  float64\n",
    " 37  october_max_temp           75757 non-null  int64  \n",
    " 38  november_min_temp          75757 non-null  int64  \n",
    " 39  november_avg_temp          75757 non-null  float64\n",
    " 40  november_max_temp          75757 non-null  int64  \n",
    " 41  december_min_temp          75757 non-null  int64  \n",
    " 42  december_avg_temp          75757 non-null  float64\n",
    " 43  december_max_temp          75757 non-null  int64  \n",
    " 44  cooling_degree_days        75757 non-null  int64  \n",
    " 45  heating_degree_days        75757 non-null  int64  \n",
    " 46  precipitation_inches       75757 non-null  float64\n",
    " 47  snowfall_inches            75757 non-null  float64\n",
    " 48  snowdepth_inches           75757 non-null  int64  \n",
    " 49  avg_temp                   75757 non-null  float64\n",
    " 50  days_below_30f             75757 non-null  int64  \n",
    " 51  days_below_20f             75757 non-null  int64  \n",
    " 52  days_below_10f             75757 non-null  int64  \n",
    " 53  days_below_0f              75757 non-null  int64  \n",
    " 54  days_above_80f             75757 non-null  int64  \n",
    " 55  days_above_90f             75757 non-null  int64  \n",
    " 56  days_above_100f            75757 non-null  int64  \n",
    " 57  days_above_110f            75757 non-null  int64  \n",
    " 58  direction_max_wind_speed   34675 non-null  float64\n",
    " 59  direction_peak_wind_speed  33946 non-null  float64\n",
    " 60  max_wind_speed             34675 non-null  float64\n",
    " 61  days_with_fog              29961 non-null  float64\n",
    " 62  site_eui                   75757 non-null  float64\n",
    " 63  state_factor_              75757 non-null  int8   \n",
    " 64  building_class_            75757 non-null  int8   \n",
    " 65  facility_type_             75757 non-null  int8"
   ]
  },
  {
   "cell_type": "code",
   "execution_count": 113,
   "metadata": {},
   "outputs": [
    {
     "data": {
      "text/plain": [
       "<AxesSubplot:xlabel='year_factor', ylabel='state_factor_'>"
      ]
     },
     "execution_count": 113,
     "metadata": {},
     "output_type": "execute_result"
    },
    {
     "data": {
      "image/png": "[encoded data removed]",
      "text/plain": [
       "<Figure size 432x288 with 1 Axes>"
      ]
     },
     "metadata": {},
     "output_type": "display_data"
    }
   ],
   "source": [
    "sns.boxplot(data=df, x='year_factor', y='state_factor_')"
   ]
  },
  {
   "cell_type": "code",
   "execution_count": 116,
   "metadata": {},
   "outputs": [
    {
     "name": "stdout",
     "output_type": "stream",
     "text": [
      "['State_1' 'State_2' 'State_6']\n",
      "['State_1' 'State_2' 'State_6']\n",
      "['State_1' 'State_2' 'State_6' 'State_8' 'State_10']\n",
      "['State_1' 'State_2' 'State_4' 'State_6' 'State_8' 'State_10']\n",
      "['State_1' 'State_2' 'State_4' 'State_6' 'State_8' 'State_10' 'State_11']\n",
      "['State_1' 'State_2' 'State_4' 'State_6' 'State_8' 'State_10' 'State_11']\n"
     ]
    }
   ],
   "source": [
    "for i in df.year_factor.unique():\n",
    "    ix = df.loc[:, 'year_factor'] == i\n",
    "    print(df.loc[ix, 'state_factor'].unique())"
   ]
  },
  {
   "cell_type": "code",
   "execution_count": 118,
   "metadata": {},
   "outputs": [
    {
     "data": {
      "text/plain": [
       "State_6     50840\n",
       "State_11     6412\n",
       "State_1      5618\n",
       "State_2      4871\n",
       "State_4      4300\n",
       "State_8      3701\n",
       "State_10       15\n",
       "Name: state_factor, dtype: int64"
      ]
     },
     "execution_count": 118,
     "metadata": {},
     "output_type": "execute_result"
    }
   ],
   "source": [
    "df['state_factor'].value_counts()"
   ]
  },
  {
   "cell_type": "code",
   "execution_count": 133,
   "metadata": {},
   "outputs": [],
   "source": [
    "# find correlated features\n",
    "correlated_features = ['january_min_temp', 'cooling_degree_days']\n",
    "C = df.drop(columns=correlated_features).corr()"
   ]
  },
  {
   "cell_type": "code",
   "execution_count": 134,
   "metadata": {},
   "outputs": [
    {
     "name": "stdout",
     "output_type": "stream",
     "text": [
      "********************\n",
      "direction_max_wind_speed\n",
      "********************\n",
      "direction_max_wind_speed     True\n",
      "direction_peak_wind_speed    True\n",
      "max_wind_speed               True\n",
      "Name: direction_max_wind_speed, dtype: bool\n",
      "********************\n",
      "direction_peak_wind_speed\n",
      "********************\n",
      "direction_max_wind_speed     True\n",
      "direction_peak_wind_speed    True\n",
      "max_wind_speed               True\n",
      "Name: direction_peak_wind_speed, dtype: bool\n",
      "********************\n",
      "max_wind_speed\n",
      "********************\n",
      "direction_max_wind_speed     True\n",
      "direction_peak_wind_speed    True\n",
      "max_wind_speed               True\n",
      "Name: max_wind_speed, dtype: bool\n"
     ]
    }
   ],
   "source": [
    "for i in range(len(C)):\n",
    "    tmp = np.abs(C.iloc[i]) > 0.95\n",
    "    if tmp.sum() > 1:\n",
    "        print('*'*20)\n",
    "        print(tmp.name)\n",
    "        print('*'*20)\n",
    "        print(tmp[tmp==1])"
   ]
  },
  {
   "cell_type": "code",
   "execution_count": 137,
   "metadata": {},
   "outputs": [
    {
     "data": {
      "text/plain": [
       "count    75757.000000\n",
       "mean         1.764479\n",
       "std          0.236911\n",
       "min          1.176615\n",
       "25%          1.661193\n",
       "50%          1.738851\n",
       "75%          1.937500\n",
       "max          3.979104\n",
       "dtype: float64"
      ]
     },
     "execution_count": 137,
     "metadata": {},
     "output_type": "execute_result"
    }
   ],
   "source": [
    "(df['january_max_temp'] / df['january_avg_temp']).describe()"
   ]
  },
  {
   "cell_type": "code",
   "execution_count": 141,
   "metadata": {},
   "outputs": [
    {
     "data": {
      "image/png": "[encoded data removed]",
      "text/plain": [
       "<Figure size 432x288 with 1 Axes>"
      ]
     },
     "metadata": {},
     "output_type": "display_data"
    }
   ],
   "source": [
    "df['january_avg_temp'].hist(bins=range(10, 60));\n",
    "df['january_min_temp'].hist(bins=range(10, 60));\n",
    "df['january_max_temp'].hist(bins=range(10, 60));"
   ]
  },
  {
   "cell_type": "code",
   "execution_count": 143,
   "metadata": {},
   "outputs": [
    {
     "data": {
      "image/png": "[encoded data removed]",
      "text/plain": [
       "<Figure size 432x288 with 1 Axes>"
      ]
     },
     "metadata": {},
     "output_type": "display_data"
    }
   ],
   "source": [
    "for month in ['january', 'february', 'march', 'april']:\n",
    "    (df[f'{month}_min_temp'] - df[f'{month}_avg_temp']).hist()"
   ]
  },
  {
   "cell_type": "code",
   "execution_count": 147,
   "metadata": {},
   "outputs": [
    {
     "data": {
      "text/plain": [
       "<AxesSubplot:>"
      ]
     },
     "execution_count": 147,
     "metadata": {},
     "output_type": "execute_result"
    },
    {
     "data": {
      "image/png": "[encoded data removed]",
      "text/plain": [
       "<Figure size 432x288 with 1 Axes>"
      ]
     },
     "metadata": {},
     "output_type": "display_data"
    }
   ],
   "source": [
    "df.loc[:, ['december_avg_temp', 'january_avg_temp', 'february_avg_temp']].mean(axis=1).hist()"
   ]
  },
  {
   "cell_type": "code",
   "execution_count": null,
   "metadata": {},
   "outputs": [],
   "source": []
  }
 ],
 "metadata": {
  "kernelspec": {
   "display_name": "Python 3 unstable (using the module python3/unstable)",
   "language": "python",
   "name": "python3_unstable"
  },
  "language_info": {
   "codemirror_mode": {
    "name": "ipython",
    "version": 3
   },
   "file_extension": ".py",
   "mimetype": "text/x-python",
   "name": "python",
   "nbconvert_exporter": "python",
   "pygments_lexer": "ipython3",
   "version": "3.8.6"
  }
 },
 "nbformat": 4,
 "nbformat_minor": 5
}
