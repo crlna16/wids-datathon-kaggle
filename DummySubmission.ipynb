{
 "cells": [
  {
   "cell_type": "code",
   "execution_count": null,
   "id": "9fb37ca3",
   "metadata": {},
   "outputs": [],
   "source": [
    "import numpy as np\n",
    "import pandas as pd"
   ]
  },
  {
   "cell_type": "code",
   "execution_count": null,
   "id": "609ac730",
   "metadata": {},
   "outputs": [],
   "source": [
    "from matplotlib import pyplot as plt\n",
    "import seaborn as sns"
   ]
  },
  {
   "cell_type": "markdown",
   "id": "3e512cee",
   "metadata": {},
   "source": [
    "Your task is to predict the Site EUI for each row, given the characteristics of the building and the weather data for the location of the building. "
   ]
  },
  {
   "cell_type": "code",
   "execution_count": null,
   "id": "5bd44372",
   "metadata": {},
   "outputs": [],
   "source": [
    "df = pd.read_csv('C:/Users/k202141/Downloads/train.csv.zip')"
   ]
  },
  {
   "cell_type": "code",
   "execution_count": null,
   "id": "f988120d",
   "metadata": {},
   "outputs": [],
   "source": [
    "df.head()"
   ]
  },
  {
   "cell_type": "code",
   "execution_count": null,
   "id": "f0ac8d79",
   "metadata": {},
   "outputs": [],
   "source": [
    "target = df['site_eui']"
   ]
  },
  {
   "cell_type": "code",
   "execution_count": null,
   "id": "9cb24946",
   "metadata": {},
   "outputs": [],
   "source": [
    "plt.hist(target)"
   ]
  },
  {
   "cell_type": "code",
   "execution_count": null,
   "id": "48d9ac0a",
   "metadata": {},
   "outputs": [],
   "source": [
    "target.describe()"
   ]
  },
  {
   "cell_type": "code",
   "execution_count": null,
   "id": "96da7d09",
   "metadata": {},
   "outputs": [],
   "source": [
    "df = df.dropna()"
   ]
  },
  {
   "cell_type": "code",
   "execution_count": null,
   "id": "576c52ef",
   "metadata": {},
   "outputs": [],
   "source": [
    "X = df.drop(columns=['site_eui', 'State_Factor', 'building_class', 'facility_type'])\n",
    "y = df['site_eui']\n",
    "X.shape"
   ]
  },
  {
   "cell_type": "code",
   "execution_count": null,
   "id": "02dfa40a",
   "metadata": {},
   "outputs": [],
   "source": [
    "from sklearn.ensemble import RandomForestRegressor"
   ]
  },
  {
   "cell_type": "code",
   "execution_count": null,
   "id": "f5ba37d9",
   "metadata": {},
   "outputs": [],
   "source": [
    "rfr = RandomForestRegressor()"
   ]
  },
  {
   "cell_type": "code",
   "execution_count": null,
   "id": "aff53174",
   "metadata": {},
   "outputs": [],
   "source": [
    "rfr.fit(X, y)"
   ]
  },
  {
   "cell_type": "code",
   "execution_count": null,
   "id": "91da3cca",
   "metadata": {},
   "outputs": [],
   "source": [
    "test_df = pd.read_csv('C:/Users/k202141/Downloads/test.csv.zip').fillna(value=0).drop(columns=['State_Factor', 'building_class', 'facility_type'])"
   ]
  },
  {
   "cell_type": "code",
   "execution_count": null,
   "id": "0ddf8f34",
   "metadata": {},
   "outputs": [],
   "source": [
    "y_hat = rfr.predict(test_df)"
   ]
  },
  {
   "cell_type": "code",
   "execution_count": null,
   "id": "cf092d99",
   "metadata": {},
   "outputs": [],
   "source": [
    "test_df['site_eui'] = y_hat\n",
    "submission_df = test_df.loc[:, ['id', 'site_eui']]"
   ]
  },
  {
   "cell_type": "code",
   "execution_count": null,
   "id": "4f930118",
   "metadata": {},
   "outputs": [],
   "source": [
    "submission_df"
   ]
  },
  {
   "cell_type": "code",
   "execution_count": null,
   "id": "25772be3",
   "metadata": {},
   "outputs": [],
   "source": [
    "submission_df.to_csv('./submissions/20220124_dummy.csv')"
   ]
  },
  {
   "cell_type": "code",
   "execution_count": null,
   "id": "4587d275",
   "metadata": {},
   "outputs": [],
   "source": []
  }
 ],
 "metadata": {
  "kernelspec": {
   "display_name": "Python 3 (ipykernel)",
   "language": "python",
   "name": "python3"
  },
  "language_info": {
   "codemirror_mode": {
    "name": "ipython",
    "version": 3
   },
   "file_extension": ".py",
   "mimetype": "text/x-python",
   "name": "python",
   "nbconvert_exporter": "python",
   "pygments_lexer": "ipython3",
   "version": "3.9.7"
  }
 },
 "nbformat": 4,
 "nbformat_minor": 5
}
